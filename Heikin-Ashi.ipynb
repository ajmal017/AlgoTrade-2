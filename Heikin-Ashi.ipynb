{
 "cells": [
  {
   "cell_type": "code",
   "execution_count": 1,
   "metadata": {},
   "outputs": [],
   "source": [
    "import pandas as pd\n",
    "import matplotlib.pyplot as plt\n",
    "import yfinance as yf\n",
    "import mpl_finance as mpf\n",
    "import numpy as np\n",
    "from scipy import integrate\n",
    "from scipy.stats import t"
   ]
  },
  {
   "cell_type": "code",
   "execution_count": 2,
   "metadata": {},
   "outputs": [],
   "source": [
    "def heikin_ashi(df1):\n",
    "    \n",
    "    df1.reset_index(inplace=True)\n",
    "    \n",
    "    df1['HA close']=(df1['Open']+df1['Close']+df1['High']+df1['Low'])/4\n",
    "\n",
    "    #initialize heikin ashi open\n",
    "    df1['HA open']=float(0)\n",
    "    df1['HA open'][0]=df1['Open'][0]\n",
    "\n",
    "    for n in range(1,len(df1)):\n",
    "        df1.at[n,'HA open']=(df1['HA open'][n-1]+df1['HA close'][n-1])/2\n",
    "\n",
    "    temp=pd.concat([df1['HA open'],df1['HA close'],df1['Low'],df1['High']],axis=1)\n",
    "    df1['HA high']=temp.apply(max,axis=1)\n",
    "    df1['HA low']=temp.apply(min,axis=1)\n",
    "\n",
    "\n",
    "    del df1['Adj Close']\n",
    "    del df1['Volume']\n",
    "    \n",
    "    return df1"
   ]
  },
  {
   "cell_type": "code",
   "execution_count": 3,
   "metadata": {},
   "outputs": [],
   "source": [
    "def signal_generation(df,method,stls):\n",
    "        \n",
    "    df1=method(df)\n",
    "    \n",
    "    df1['signals']=0\n",
    "\n",
    "    #i use cumulated sum to check how many positions i have longed\n",
    "    #i would ignore the exit signal prior to no long positions in the portfolio\n",
    "    #i also keep tracking how many long positions i have got\n",
    "    #long signals cannot exceed the stop loss limit\n",
    "    df1['cumsum']=0\n",
    "\n",
    "    for n in range(1,len(df1)):\n",
    "        \n",
    "        if (df1['HA open'][n]>df1['HA close'][n] and df1['HA open'][n]==df1['HA high'][n] and\n",
    "            np.abs(df1['HA open'][n]-df1['HA close'][n])>np.abs(df1['HA open'][n-1]-df1['HA close'][n-1]) and\n",
    "            df1['HA open'][n-1]>df1['HA close'][n-1]):\n",
    "            \n",
    "            df1.at[n,'signals']=1\n",
    "            df1['cumsum']=df1['signals'].cumsum()\n",
    "\n",
    "\n",
    "            #stop longing positions\n",
    "            if df1['cumsum'][n]>stls:\n",
    "                df1.at[n,'signals']=0\n",
    "        \n",
    "\n",
    "        elif (df1['HA open'][n]<df1['HA close'][n] and df1['HA open'][n]==df1['HA low'][n] and \n",
    "        df1['HA open'][n-1]<df1['HA close'][n-1]):\n",
    "            \n",
    "            df1.at[n,'signals']=-1\n",
    "            df1['cumsum']=df1['signals'].cumsum()\n",
    "        \n",
    "\n",
    "            #if long positions i hold are more than one\n",
    "            #its time to clear all my positions\n",
    "            #if there are no long positions in my portfolio\n",
    "            #ignore the exit signal\n",
    "            if df1['cumsum'][n]>0:\n",
    "                df1.at[n,'signals']=-1*(df1['cumsum'][n-1])\n",
    "\n",
    "            if df1['cumsum'][n]<0:\n",
    "                df1.at[n,'signals']=0\n",
    "                \n",
    "    return df1"
   ]
  },
  {
   "cell_type": "code",
   "execution_count": 4,
   "metadata": {},
   "outputs": [],
   "source": [
    "def plot(df1,ticker):\n",
    "    \n",
    "    \n",
    "    df1.set_index(df1['Date'],inplace=True)\n",
    "    \n",
    "    #first plot is Heikin-Ashi candlestick\n",
    "    #use candlestick function and set Heikin-Ashi O,C,H,L\n",
    "    ax1=plt.subplot2grid((200,1), (0,0), rowspan=120,ylabel='HA price')\n",
    "    mpf.candlestick2_ochl(ax1, df1['HA open'], df1['HA close'], df1['HA high'], df1['HA low'], width=1, colorup='g', colordown='r')\n",
    "    plt.grid(True)\n",
    "    plt.xticks([])\n",
    "    plt.title('Heikin-Ashi')\n",
    "\n",
    "\n",
    "    #the second plot is the actual price with long/short positions as up/down arrows\n",
    "    ax2=plt.subplot2grid((200,1), (120,0), rowspan=80,ylabel='price',xlabel='')\n",
    "    df1['Close'].plot(ax=ax2,label=ticker)\n",
    "\n",
    "    #long/short positions are attached to the real close price of the stock\n",
    "    #set the line width to zero\n",
    "    #thats why we only observe markers\n",
    "    ax2.plot(df1.loc[df1['signals']==1].index,df1['Close'][df1['signals']==1],marker='^',lw=0,c='g',label='long')\n",
    "    ax2.plot(df1.loc[df1['signals']<0].index,df1['Close'][df1['signals']<0],marker='v',lw=0,c='r',label='short')\n",
    "\n",
    "    plt.grid(True)\n",
    "    plt.legend(loc='best')\n",
    "    plt.show()"
   ]
  },
  {
   "cell_type": "code",
   "execution_count": 5,
   "metadata": {},
   "outputs": [],
   "source": [
    "def portfolio(df1):\n",
    "    \n",
    "    #initial capital to calculate the actual pnl\n",
    "    capital0=10000\n",
    "\n",
    "    #shares to buy of every position\n",
    "    positions=100\n",
    "    \n",
    "    #cumsum column is created to check the holding of the position\n",
    "    df1['cumsum']=df1['signals'].cumsum()\n",
    "\n",
    "    portfolio=pd.DataFrame()\n",
    "    portfolio['holdings']=df1['cumsum']*df1['Close']*positions\n",
    "    portfolio['cash']=capital0-(df1['signals']*df1['Close']*positions).cumsum()\n",
    "    portfolio['total asset']=portfolio['holdings']+portfolio['cash']\n",
    "    portfolio['return']=portfolio['total asset'].pct_change()\n",
    "    portfolio['signals']=df1['signals']\n",
    "    portfolio['date']=df1['Date']\n",
    "    portfolio.set_index('date',inplace=True)\n",
    "\n",
    "    return portfolio"
   ]
  },
  {
   "cell_type": "code",
   "execution_count": 6,
   "metadata": {},
   "outputs": [],
   "source": [
    "def profit(portfolio):\n",
    "    \n",
    "    \n",
    "    fig=plt.figure()\n",
    "    bx=fig.add_subplot(111)\n",
    "    \n",
    "    portfolio['total asset'].plot(label='Total Asset')\n",
    "    \n",
    "    #long/short position markers related to the portfolio\n",
    "    #the same mechanism as the previous one\n",
    "    #replace close price with total asset value\n",
    "    bx.plot(portfolio['signals'].loc[portfolio['signals']==1].index,portfolio['total asset'][portfolio['signals']==1],lw=0,marker='^',c='g',label='long')\n",
    "    bx.plot(portfolio['signals'].loc[portfolio['signals']<0].index,portfolio['total asset'][portfolio['signals']<0],lw=0,marker='v',c='r',label='short')\n",
    "    \n",
    "    plt.legend(loc='best')\n",
    "    plt.grid(True)\n",
    "    plt.xlabel('Date')\n",
    "    plt.ylabel('Asset Value')\n",
    "    plt.title('Total Asset')\n",
    "    plt.show()"
   ]
  },
  {
   "cell_type": "code",
   "execution_count": 7,
   "metadata": {},
   "outputs": [],
   "source": [
    "def omega(risk_free,degree_of_freedom,maximum,minimum):\n",
    "\n",
    "    y=integrate.quad(lambda g:1-t.cdf(g,degree_of_freedom),risk_free,maximum)\n",
    "    x=integrate.quad(lambda g:t.cdf(g,degree_of_freedom),minimum,risk_free)\n",
    "\n",
    "    z=(y[0])/(x[0])\n",
    "\n",
    "    return z"
   ]
  },
  {
   "cell_type": "code",
   "execution_count": 8,
   "metadata": {},
   "outputs": [],
   "source": [
    "def sortino(risk_free,degree_of_freedom,growth_rate,minimum):\n",
    "\n",
    "    v=np.sqrt(np.abs(integrate.quad(lambda g:((risk_free-g)**2)*t.pdf(g,degree_of_freedom),risk_free,minimum)))\n",
    "    s=(growth_rate-risk_free)/v[0]\n",
    "\n",
    "    return s"
   ]
  },
  {
   "cell_type": "code",
   "execution_count": 9,
   "metadata": {},
   "outputs": [],
   "source": [
    "def mdd(series):\n",
    "\n",
    "    temp=0\n",
    "    for i in range(1,len(series)):\n",
    "        if temp>(series[i]/max(series[:i])-1):\n",
    "            temp=(series[i]/max(series[:i])-1)\n",
    "\n",
    "    return temp"
   ]
  },
  {
   "cell_type": "code",
   "execution_count": 10,
   "metadata": {},
   "outputs": [],
   "source": [
    "def stats(portfolio,df1,stdate,eddate):\n",
    "\n",
    "    stats=pd.DataFrame([0])\n",
    "\n",
    "    #get the min and max of return\n",
    "    maximum=np.max(portfolio['return'])\n",
    "    minimum=np.min(portfolio['return'])\n",
    "    capital0=10000\n",
    "\n",
    "    #growth_rate denotes the average growth rate of portfolio \n",
    "    #i use geometric average instead of arithmetic average for percentage growth\n",
    "    growth_rate=(float(portfolio['total asset'].iloc[-1]/capital0))**(1/len(df1))-1\n",
    "\n",
    "    #calculating the standard deviation\n",
    "    std=float(np.sqrt((((portfolio['return']-growth_rate)**2).sum())/len(df1)))\n",
    "\n",
    "    #use S&P500 as benchmark\n",
    "    benchmark=yf.download('^GSPC',start=stdate,end=eddate)\n",
    "\n",
    "    #rb denotes the return of benchmark\n",
    "    rb=float(benchmark['Close'].iloc[-1]/benchmark['Open'].iloc[0]-1)\n",
    "\n",
    "    #rf denotes the average growth rate of benchmark \n",
    "    #i use geometric average instead of arithmetic average for percentage growth\n",
    "    rf=(rb+1)**(1/len(df1))-1\n",
    "\n",
    "    del benchmark\n",
    "\n",
    "    #backtesting stats\n",
    "    #CAGR stands for cumulated average growth rate\n",
    "    stats['CAGR']=stats['portfolio return']=float(0)\n",
    "    stats['CAGR'][0]=growth_rate\n",
    "    stats['portfolio return'][0]=portfolio['total asset'].iloc[-1]/capital0-1\n",
    "    stats['benchmark return']=rb\n",
    "    stats['sharpe ratio']=(growth_rate-rf)/std\n",
    "    stats['maximum drawdown']=mdd(portfolio['total asset'])\n",
    "\n",
    "    #calmar ratio is sorta like sharpe ratio\n",
    "    #the standard deviation is replaced by maximum drawdown\n",
    "    #it is the measurement of return after worse scenario adjustment\n",
    "    stats['calmar ratio']=growth_rate/stats['maximum drawdown']\n",
    "    stats['omega ratio']=omega(rf,len(df1),maximum,minimum)\n",
    "    stats['sortino ratio']=sortino(rf,len(df1),growth_rate,minimum)\n",
    "\n",
    "    #note that i use stop loss limit to limit the numbers of longs\n",
    "    #and when clearing positions, we clear all the positions at once\n",
    "    #so every long is always one, and short could be no larger than the stop loss limit\n",
    "    stats['numbers of longs']=df1['signals'].loc[df1['signals']==1].count()\n",
    "    stats['numbers of shorts']=df1['signals'].loc[df1['signals']<0].count()\n",
    "    stats['numbers of trades']=stats['numbers of shorts']+stats['numbers of longs']  \n",
    "\n",
    "    #to get the total length of trades\n",
    "    #given that cumsum indicates the holding of positions\n",
    "    #we can get all the possible outcomes when cumsum doesnt equal zero\n",
    "    #then we count how many non-zero positions there are\n",
    "    #we get the estimation of total length of trades\n",
    "    stats['total length of trades']=df1['signals'].loc[df1['cumsum']!=0].count()\n",
    "    stats['average length of trades']=stats['total length of trades']/stats['numbers of trades']\n",
    "    stats['profit per trade']=float(0)\n",
    "    stats['profit per trade'].iloc[0]=(portfolio['total asset'].iloc[-1]-capital0)/stats['numbers of trades'].iloc[0]\n",
    "\n",
    "    del stats[0]\n",
    "    print(stats)"
   ]
  },
  {
   "cell_type": "code",
   "execution_count": 11,
   "metadata": {},
   "outputs": [],
   "source": [
    "def main():\n",
    "    \n",
    "    #initializing\n",
    "\n",
    "    #stop loss positions, the maximum long positions we can get\n",
    "    #without certain constraints, you will long indefinites times as long as the market condition triggers the signal\n",
    "    #in a whipsaw condition, it is suicidal\n",
    "    stls=3\n",
    "    ticker='NVDA'\n",
    "    stdate='2015-04-01'\n",
    "    eddate='2018-02-15'\n",
    "\n",
    "    #slice is used for plotting\n",
    "    #a three year dataset with 750 variables would be too much for a figure\n",
    "    slicer=700\n",
    "\n",
    "\n",
    "    #downloading data\n",
    "    df=yf.download(ticker,start=stdate,end=eddate)\n",
    "\n",
    "    df1=signal_generation(df,heikin_ashi,stls)\n",
    "\n",
    "    new=df1[slicer:]\n",
    "    plot(new,ticker)\n",
    "\n",
    "    portfo=portfolio(new)\n",
    "    profit(portfo)\n",
    "\n",
    "    stats(portfo,df1,stdate,eddate)\n",
    "\n",
    "    #note that this is the only py file with complete stats calculation"
   ]
  },
  {
   "cell_type": "code",
   "execution_count": 12,
   "metadata": {},
   "outputs": [
    {
     "name": "stdout",
     "output_type": "stream",
     "text": [
      "[*********************100%***********************]  1 of 1 downloaded\n"
     ]
    },
    {
     "name": "stderr",
     "output_type": "stream",
     "text": [
      "/anaconda3/lib/python3.7/site-packages/ipykernel_launcher.py:9: SettingWithCopyWarning: \n",
      "A value is trying to be set on a copy of a slice from a DataFrame\n",
      "\n",
      "See the caveats in the documentation: http://pandas.pydata.org/pandas-docs/stable/indexing.html#indexing-view-versus-copy\n",
      "  if __name__ == '__main__':\n"
     ]
    },
    {
     "data": {
      "image/png": "[encoded data removed]",
      "text/plain": [
       "<Figure size 432x288 with 2 Axes>"
      ]
     },
     "metadata": {
      "needs_background": "light"
     },
     "output_type": "display_data"
    },
    {
     "name": "stderr",
     "output_type": "stream",
     "text": [
      "/anaconda3/lib/python3.7/site-packages/ipykernel_launcher.py:10: SettingWithCopyWarning: \n",
      "A value is trying to be set on a copy of a slice from a DataFrame.\n",
      "Try using .loc[row_indexer,col_indexer] = value instead\n",
      "\n",
      "See the caveats in the documentation: http://pandas.pydata.org/pandas-docs/stable/indexing.html#indexing-view-versus-copy\n",
      "  # Remove the CWD from sys.path while we load stuff.\n"
     ]
    },
    {
     "data": {
      "image/png": "[encoded data removed]",
      "text/plain": [
       "<Figure size 432x288 with 1 Axes>"
      ]
     },
     "metadata": {
      "needs_background": "light"
     },
     "output_type": "display_data"
    },
    {
     "name": "stdout",
     "output_type": "stream",
     "text": [
      "[*********************100%***********************]  1 of 1 downloaded\n",
      "      CAGR  portfolio return  benchmark return  sharpe ratio  \\\n",
      "0  0.00042            0.3562           0.30518      0.002533   \n",
      "\n",
      "   maximum drawdown  calmar ratio  omega ratio  sortino ratio  \\\n",
      "0         -0.204385     -0.002057      1.52946       0.001576   \n",
      "\n",
      "   numbers of longs  numbers of shorts  numbers of trades  \\\n",
      "0                61                 32                 93   \n",
      "\n",
      "   total length of trades  average length of trades  profit per trade  \n",
      "0                     220                  2.365591         38.301075  \n"
     ]
    },
    {
     "name": "stderr",
     "output_type": "stream",
     "text": [
      "/anaconda3/lib/python3.7/site-packages/ipykernel_launcher.py:32: SettingWithCopyWarning: \n",
      "A value is trying to be set on a copy of a slice from a DataFrame\n",
      "\n",
      "See the caveats in the documentation: http://pandas.pydata.org/pandas-docs/stable/indexing.html#indexing-view-versus-copy\n",
      "/anaconda3/lib/python3.7/site-packages/ipykernel_launcher.py:33: SettingWithCopyWarning: \n",
      "A value is trying to be set on a copy of a slice from a DataFrame\n",
      "\n",
      "See the caveats in the documentation: http://pandas.pydata.org/pandas-docs/stable/indexing.html#indexing-view-versus-copy\n",
      "/anaconda3/lib/python3.7/site-packages/pandas/core/indexing.py:190: SettingWithCopyWarning: \n",
      "A value is trying to be set on a copy of a slice from a DataFrame\n",
      "\n",
      "See the caveats in the documentation: http://pandas.pydata.org/pandas-docs/stable/indexing.html#indexing-view-versus-copy\n",
      "  self._setitem_with_indexer(indexer, value)\n"
     ]
    }
   ],
   "source": [
    "if __name__ == '__main__':\n",
    "    main()"
   ]
  }
 ],
 "metadata": {
  "kernelspec": {
   "display_name": "Python 3",
   "language": "python",
   "name": "python3"
  },
  "language_info": {
   "codemirror_mode": {
    "name": "ipython",
    "version": 3
   },
   "file_extension": ".py",
   "mimetype": "text/x-python",
   "name": "python",
   "nbconvert_exporter": "python",
   "pygments_lexer": "ipython3",
   "version": "3.7.3"
  }
 },
 "nbformat": 4,
 "nbformat_minor": 2
}
