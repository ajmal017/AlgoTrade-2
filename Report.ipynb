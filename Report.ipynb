{
 "cells": [
  {
   "cell_type": "code",
   "execution_count": 36,
   "metadata": {
    "collapsed": false,
    "extensions": {
     "jupyter_dashboards": {
      "version": 1,
      "views": {
       "grid_default": {
        "hidden": true
       },
       "report_default": {
        "hidden": true
       }
      }
     }
    }
   },
   "outputs": [],
   "source": [
    "import pandas as pd\n",
    "import numpy as np\n",
    "import matplotlib.pyplot as plt\n",
    "# import yfinance as yf\n",
    "import warnings\n",
    "import mpl_finance as mpf\n",
    "# from scipy import integrate\n",
    "# from scipy.stats import t\n",
    "\n",
    "from ipywidgets import widgets\n",
    "from ipywidgets import interact, interact_manual\n",
    "from IPython.display import display"
   ]
  },
  {
   "cell_type": "code",
   "execution_count": 130,
   "metadata": {
    "collapsed": false,
    "extensions": {
     "jupyter_dashboards": {
      "version": 1,
      "views": {
       "grid_default": {
        "col": 0,
        "height": 52,
        "hidden": false,
        "row": 0,
        "width": 8
       },
       "report_default": {
        "hidden": false
       }
      }
     }
    },
    "scrolled": false
   },
   "outputs": [],
   "source": [
    "%matplotlib inline\n",
    "warnings.filterwarnings(\"ignore\")\n",
    "\n",
    "global df\n",
    "global ticker\n",
    "\n",
    "def controller(sender):\n",
    "    ticker = sender.value\n",
    "    df = pd.read_csv(ticker + '.csv')\n",
    "    rsi.main(df, ticker)\n",
    "#     macd.main(df, ticker)\n",
    "#     parabolic_sar.main(df, ticker)\n",
    "#     heikin_ashi.main(df, ticker)\n",
    "\n",
    "@interact\n",
    "def get_ticker():\n",
    "    text = widgets.Text()\n",
    "    display(text)\n",
    "    text.on_submit(controller)"
   ]
  },
  {
   "cell_type": "markdown",
   "metadata": {
    "extensions": {
     "jupyter_dashboards": {
      "version": 1,
      "views": {
       "grid_default": {
        "col": 0,
        "height": 13,
        "hidden": true,
        "row": 0,
        "width": 4
       },
       "report_default": {
        "hidden": false
       }
      }
     }
    }
   },
   "source": [
    "## RSI"
   ]
  },
  {
   "cell_type": "code",
   "execution_count": 128,
   "metadata": {
    "collapsed": false,
    "extensions": {
     "jupyter_dashboards": {
      "version": 1,
      "views": {
       "grid_default": {
        "col": 4,
        "height": 23,
        "hidden": true,
        "row": 19,
        "width": 8
       },
       "report_default": {
        "hidden": false
       }
      }
     }
    }
   },
   "outputs": [],
   "source": [
    "class rsi:\n",
    "    def smma(series,n):\n",
    "\n",
    "        output=[series[0]]\n",
    "\n",
    "        for i in range(1,len(series)):\n",
    "            temp=output[-1]*(n-1)+series[i]\n",
    "            output.append(temp/n)\n",
    "\n",
    "        return output\n",
    "    \n",
    "    def rsi(data,n):\n",
    "\n",
    "        delta=data.diff().dropna()\n",
    "        up=np.where(delta>0,delta,0)\n",
    "        down=np.where(delta<0,-delta,0)\n",
    "        rs=np.divide(rsi.smma(up,n),rsi.smma(down,n))\n",
    "        output=100-100/(1+rs)\n",
    "\n",
    "        return output[n-1:]\n",
    "\n",
    "    def signal_generation(df,n):\n",
    "        \n",
    "        df['rsi']=0.0\n",
    "        df['rsi'][n:] = rsi.rsi(df['close'],n)\n",
    "        df['positions'] = np.select([df['rsi']<30,df['rsi']>70], [1,-1],default=0)\n",
    "        df['signals'] = df['positions'].diff()\n",
    "\n",
    "        return df[n:]\n",
    "\n",
    "    def plot(new,ticker):\n",
    "\n",
    "        fig = plt.figure(figsize=(20,10))\n",
    "        ax1 = plt.subplot2grid((2,1), (0,0))\n",
    "\n",
    "        new['close'].plot(label=ticker)\n",
    "        ax1.plot(new.loc[new['signals']==1].index,\n",
    "                new['close'][new['signals']==1],\n",
    "                label='LONG',lw=0,marker='^',c='g')\n",
    "        ax1.plot(new.loc[new['signals']==-1].index,\n",
    "                new['close'][new['signals']==-1],\n",
    "                label='SHORT',lw=0,marker='v',c='r')\n",
    "\n",
    "\n",
    "        plt.legend(loc='best')\n",
    "        plt.grid(True)\n",
    "        plt.title('Positions')\n",
    "        plt.xlabel('time')\n",
    "        plt.ylabel('price')\n",
    "\n",
    "        ax2 = plt.subplot2grid((2,1), (1,0))\n",
    "\n",
    "        new['rsi'].plot(label='relative strength index',c='#522e75')\n",
    "        ax2.fill_between(new.index,30,70,alpha=0.5,color='#f22f08')\n",
    "\n",
    "        ax2.text(new.index[-60],75,'overbought',color='#594346',size=12.5)\n",
    "        ax2.text(new.index[-45],25,'oversold',color='#594346',size=12.5)\n",
    "\n",
    "        plt.xlabel('time')\n",
    "        plt.ylabel('value')\n",
    "        plt.title('RSI')\n",
    "        plt.legend(loc='best')\n",
    "        plt.grid(True)\n",
    "        plt.show()\n",
    "\n",
    "    def main(df, ticker): \n",
    "        \n",
    "        %matplotlib inline\n",
    "        \n",
    "        slicer=114670\n",
    "        new=df[slicer:].copy()\n",
    "        new = new.reset_index()\n",
    "\n",
    "        new = rsi.signal_generation(new, n=14)\n",
    "        rsi.plot(new,ticker)\n",
    "    \n",
    "def controller(sender):\n",
    "    ticker = sender.value\n",
    "    df = pd.read_csv(ticker + '.csv')\n",
    "    rsi.main(df, ticker)\n",
    "#     macd.main(df, ticker)\n",
    "#     parabolic_sar.main(df, ticker)\n",
    "#     heikin_ashi.main(df, ticker)\n",
    "\n",
    "@interact\n",
    "def get_ticker():\n",
    "    \n",
    "    \n",
    "    mylink = widgets.jslink((a, 'value'), (b, 'value'))\n",
    "    \n",
    "    \n",
    "    text.on_submit(controller)"
   ]
  },
  {
   "cell_type": "markdown",
   "metadata": {
    "extensions": {
     "jupyter_dashboards": {
      "version": 1,
      "views": {
       "grid_default": {
        "col": 0,
        "height": 13,
        "hidden": true,
        "row": 0,
        "width": 4
       },
       "report_default": {
        "hidden": false
       }
      }
     }
    }
   },
   "source": [
    "## MACD"
   ]
  },
  {
   "cell_type": "code",
   "execution_count": 70,
   "metadata": {
    "collapsed": false,
    "extensions": {
     "jupyter_dashboards": {
      "version": 1,
      "views": {
       "grid_default": {
        "col": 4,
        "height": 13,
        "hidden": true,
        "row": 32,
        "width": 8
       },
       "report_default": {
        "hidden": false
       }
      }
     }
    }
   },
   "outputs": [],
   "source": [
    "class macd:\n",
    "    def macd(signals):\n",
    "        \n",
    "        signals['ma1']=signals['close'].rolling(window=ma1,min_periods=1,center=False).mean()\n",
    "        signals['ma2']=signals['close'].rolling(window=ma2,min_periods=1,center=False).mean()\n",
    "\n",
    "        return signals\n",
    "\n",
    "    def signal_generation(df):\n",
    "\n",
    "        signals=macd.macd(df)\n",
    "        signals['positions']=0\n",
    "        signals['positions'][ma1:]=np.where(signals['ma1'][ma1:]>=signals['ma2'][ma1:],1,0)\n",
    "        signals['signals']=signals['positions'].diff()\n",
    "        signals['oscillator']=signals['ma1']-signals['ma2']\n",
    "\n",
    "        return signals\n",
    "\n",
    "    def plot(new, ticker):\n",
    "\n",
    "        fig = plt.figure(figsize=(20,10))\n",
    "\n",
    "        ax1 = plt.subplot2grid((2,2), (0,0), colspan=2)\n",
    "        new['close'].plot(label=ticker)\n",
    "        plt.plot(new.loc[new['signals']==1].index,new['close'][new['signals']==1],label='LONG',lw=0,marker='^',c='g')\n",
    "        plt.plot(new.loc[new['signals']==-1].index,new['close'][new['signals']==-1],label='SHORT',lw=0,marker='v',c='r')\n",
    "        plt.legend(loc='best')\n",
    "        plt.grid(True)\n",
    "        plt.title('Positions')\n",
    "\n",
    "        ax2 = plt.subplot2grid((2,2), (1,0))\n",
    "        new['oscillator'].plot(kind='bar',color='r')\n",
    "        plt.legend(loc='best')\n",
    "        plt.grid(True)\n",
    "        plt.xticks([])\n",
    "        plt.xlabel('')\n",
    "        plt.title('MACD Oscillator')\n",
    "\n",
    "        ax3 = plt.subplot2grid((2,2), (1,1))\n",
    "        new['ma1'].plot(label='ma1')\n",
    "        new['ma2'].plot(label='ma2',linestyle=':')\n",
    "        plt.legend(loc='best')\n",
    "        plt.grid(True)\n",
    "\n",
    "        plt.show()\n",
    "\n",
    "    def main(df, ticker):\n",
    "\n",
    "        global ma1\n",
    "        global ma2\n",
    "\n",
    "        ma1=40\n",
    "        ma2=80\n",
    "\n",
    "        slicer=114670    \n",
    "        new = df[slicer:].copy()\n",
    "        new = new.reset_index()\n",
    "\n",
    "        new = macd.signal_generation(new)\n",
    "        macd.plot(new, ticker)"
   ]
  },
  {
   "cell_type": "markdown",
   "metadata": {
    "extensions": {
     "jupyter_dashboards": {
      "version": 1,
      "views": {
       "grid_default": {
        "col": 0,
        "height": 13,
        "hidden": true,
        "row": 0,
        "width": 4
       },
       "report_default": {
        "hidden": false
       }
      }
     }
    }
   },
   "source": [
    "## Parabolic SAR"
   ]
  },
  {
   "cell_type": "code",
   "execution_count": 84,
   "metadata": {
    "collapsed": false,
    "extensions": {
     "jupyter_dashboards": {
      "version": 1,
      "views": {
       "grid_default": {
        "col": 4,
        "height": 13,
        "hidden": true,
        "row": 32,
        "width": 8
       },
       "report_default": {
        "hidden": false
       }
      }
     }
    }
   },
   "outputs": [],
   "source": [
    "class parabolic_sar:\n",
    "    def parabolic_sar(new):\n",
    "\n",
    "        initial_af=0.02\n",
    "        step_af=0.02\n",
    "        end_af=0.2\n",
    "\n",
    "\n",
    "        new['trend']=0\n",
    "        new['sar']=0.0\n",
    "        new['real sar']=0.0\n",
    "        new['ep']=0.0\n",
    "        new['af']=0.0\n",
    "        new['trend'][1]=1 if new['close'][1]>new['close'][0] else -1\n",
    "        new['sar'][1]=new['high'][0] if new['trend'][1]>0 else new['low'][0]\n",
    "        new.at[1,'real sar']=new['sar'][1]\n",
    "        new['ep'][1]=new['high'][1] if new['trend'][1]>0 else new['low'][1]\n",
    "        new['af'][1]=initial_af\n",
    "\n",
    "        for i in range(2,len(new)):\n",
    "\n",
    "            temp=new['sar'][i-1]+new['af'][i-1]*(new['ep'][i-1]-new['sar'][i-1])\n",
    "            if new['trend'][i-1]<0:\n",
    "                new.at[i,'sar']=max(temp,new['high'][i-1],new['high'][i-2])\n",
    "                temp=1 if new['sar'][i]<new['high'][i] else new['trend'][i-1]-1\n",
    "            else:\n",
    "                new.at[i,'sar']=min(temp,new['low'][i-1],new['low'][i-2])\n",
    "                temp=-1 if new['sar'][i]>new['low'][i] else new['trend'][i-1]+1\n",
    "            new.at[i,'trend']=temp\n",
    "\n",
    "\n",
    "            if new['trend'][i]<0:\n",
    "                temp=min(new['low'][i],new['ep'][i-1]) if new['trend'][i]!=-1 else new['low'][i]\n",
    "            else:\n",
    "                temp=max(new['high'][i],new['ep'][i-1]) if new['trend'][i]!=1 else new['high'][i]\n",
    "            new.at[i,'ep']=temp\n",
    "\n",
    "\n",
    "            if np.abs(new['trend'][i])==1:\n",
    "                temp=new['ep'][i-1]\n",
    "                new.at[i,'af']=initial_af\n",
    "            else:\n",
    "                temp=new['sar'][i]\n",
    "                if new['ep'][i]==new['ep'][i-1]:\n",
    "                    new.at[i,'af']=new['af'][i-1]\n",
    "                else:\n",
    "                    new.at[i,'af']=min(end_af,new['af'][i-1]+step_af)\n",
    "            new.at[i,'real sar']=temp\n",
    "\n",
    "        return new\n",
    "\n",
    "    def signal_generation(df):\n",
    "\n",
    "            new = parabolic_sar.parabolic_sar(df)\n",
    "\n",
    "            new['positions'],new['signals']=0,0\n",
    "            new['positions']=np.where(new['real sar']<new['close'],1,0)\n",
    "            new['signals']=new['positions'].diff()\n",
    "\n",
    "            return new\n",
    "\n",
    "    def plot(new,ticker):\n",
    "\n",
    "        fig = plt.figure(figsize=(20,10))\n",
    "\n",
    "        ax1 = plt.subplot2grid((2,2), (0,0), colspan=2, rowspan=2)\n",
    "        new['close'].plot(lw=3,label='%s'%ticker)\n",
    "        new['real sar'].plot(linestyle=':',label='Parabolic SAR',color='k')\n",
    "        ax1.plot(new.loc[new['signals']==1].index,new['close'][new['signals']==1],marker='^',color='g',label='LONG',lw=0,markersize=10)\n",
    "        ax1.plot(new.loc[new['signals']==-1].index,new['close'][new['signals']==-1],marker='v',color='r',label='SHORT',lw=0,markersize=10)\n",
    "\n",
    "        plt.legend(loc='best')\n",
    "        plt.grid(True)\n",
    "        plt.title('Parabolic SAR')\n",
    "        plt.ylabel('price')\n",
    "        plt.show()\n",
    "\n",
    "    def main(df, ticker):\n",
    "\n",
    "\n",
    "        slicer=114670\n",
    "        new=df[slicer:].copy()\n",
    "        new = new.reset_index()\n",
    "\n",
    "        new = parabolic_sar.signal_generation(new)    \n",
    "        parabolic_sar.plot(new[1:],ticker) "
   ]
  },
  {
   "cell_type": "markdown",
   "metadata": {
    "extensions": {
     "jupyter_dashboards": {
      "version": 1,
      "views": {
       "grid_default": {
        "col": 0,
        "height": 13,
        "hidden": true,
        "row": 0,
        "width": 4
       },
       "report_default": {
        "hidden": false
       }
      }
     }
    }
   },
   "source": [
    "## Heikin-Ashi"
   ]
  },
  {
   "cell_type": "code",
   "execution_count": 87,
   "metadata": {
    "collapsed": false,
    "extensions": {
     "jupyter_dashboards": {
      "version": 1,
      "views": {
       "grid_default": {
        "col": 4,
        "height": 13,
        "hidden": true,
        "row": 32,
        "width": 8
       },
       "report_default": {
        "hidden": false
       }
      }
     }
    }
   },
   "outputs": [],
   "source": [
    "class heikin_ashi:\n",
    "    def heikin_ashi(df1):\n",
    "\n",
    "        df1.reset_index(inplace=True)\n",
    "\n",
    "        df1['HA close']=(df1['open']+df1['close']+df1['high']+df1['low'])/4\n",
    "        df1['HA open']=float(0)\n",
    "        df1['HA open'][0]=df1['open'][0]\n",
    "\n",
    "        for n in range(1,len(df1)):\n",
    "            df1.at[n,'HA open']=(df1['HA open'][n-1]+df1['HA close'][n-1])/2\n",
    "\n",
    "        temp=pd.concat([df1['HA open'],df1['HA close'],df1['low'],df1['high']],axis=1)\n",
    "        df1['HA high']=temp.apply(max,axis=1)\n",
    "        df1['HA low']=temp.apply(min,axis=1)\n",
    "\n",
    "        del df1['close']\n",
    "        del df1['volume']\n",
    "        return df1\n",
    "\n",
    "    def signal_generation(df,stls):\n",
    "\n",
    "        df1 = heikin_ashi.heikin_ashi(df)\n",
    "\n",
    "        df1['signals']=0\n",
    "        df1['cumsum']=0\n",
    "\n",
    "        for n in range(1,len(df1)):\n",
    "\n",
    "            if (df1['HA open'][n]>df1['HA close'][n] and df1['HA open'][n]==df1['HA high'][n] and\n",
    "                np.abs(df1['HA open'][n]-df1['HA close'][n])>np.abs(df1['HA open'][n-1]-df1['HA close'][n-1]) and\n",
    "                df1['HA open'][n-1]>df1['HA close'][n-1]):\n",
    "\n",
    "                df1.at[n,'signals']=1\n",
    "                df1['cumsum']=df1['signals'].cumsum()\n",
    "\n",
    "                if df1['cumsum'][n]>stls:\n",
    "                    df1.at[n,'signals']=0\n",
    "\n",
    "\n",
    "            elif (df1['HA open'][n]<df1['HA close'][n] and df1['HA open'][n]==df1['HA low'][n] and \n",
    "            df1['HA open'][n-1]<df1['HA close'][n-1]):\n",
    "\n",
    "                df1.at[n,'signals']=-1\n",
    "                df1['cumsum']=df1['signals'].cumsum()\n",
    "\n",
    "                if df1['cumsum'][n]>0:\n",
    "                    df1.at[n,'signals']=-1*(df1['cumsum'][n-1])\n",
    "\n",
    "                if df1['cumsum'][n]<0:\n",
    "                    df1.at[n,'signals']=0\n",
    "\n",
    "        return df1\n",
    "\n",
    "    def plot(df1,ticker):\n",
    "\n",
    "        fig = plt.figure(figsize=(20,10))\n",
    "\n",
    "        ax1 = plt.subplot2grid((2,1), (0,0))\n",
    "        mpf.candlestick2_ochl(ax1, df1['HA open'], df1['HA close'], df1['HA high'], df1['HA low'], width=1, colorup='g', colordown='r')\n",
    "        plt.grid(True)\n",
    "        plt.xticks([])\n",
    "        plt.title('Heikin-Ashi')\n",
    "\n",
    "        ax2 = plt.subplot2grid((2,1), (1,0))\n",
    "        df1['HA close'].plot(ax=ax2,label=ticker)\n",
    "        ax2.plot(df1.loc[df1['signals']==1].index,df1['HA close'][df1['signals']==1],marker='^',lw=0,c='g',label='long')\n",
    "        ax2.plot(df1.loc[df1['signals']<0].index,df1['HA close'][df1['signals']<0],marker='v',lw=0,c='r',label='short')\n",
    "\n",
    "        plt.grid(True)\n",
    "        plt.legend(loc='best')\n",
    "        plt.show()\n",
    "\n",
    "    def omega(risk_free,degree_of_freedom,maximum,minimum):\n",
    "\n",
    "        y=integrate.quad(lambda g:1-t.cdf(g,degree_of_freedom),risk_free,maximum)\n",
    "        x=integrate.quad(lambda g:t.cdf(g,degree_of_freedom),minimum,risk_free)\n",
    "        z=(y[0])/(x[0])\n",
    "\n",
    "        return z\n",
    "\n",
    "    def sortino(risk_free,degree_of_freedom,growth_rate,minimum):\n",
    "\n",
    "        v=np.sqrt(np.abs(integrate.quad(lambda g:((risk_free-g)**2)*t.pdf(g,degree_of_freedom),risk_free,minimum)))\n",
    "        s=(growth_rate-risk_free)/v[0]\n",
    "\n",
    "        return s\n",
    "\n",
    "    def mdd(series):\n",
    "\n",
    "        temp=0\n",
    "        for i in range(1,len(series)):\n",
    "            if temp>(series[i]/max(series[:i])-1):\n",
    "                temp=(series[i]/max(series[:i])-1)\n",
    "\n",
    "        return temp\n",
    "\n",
    "    def main(df, ticker):\n",
    "\n",
    "        slicer = 114670\n",
    "        new=df[slicer:].copy()\n",
    "\n",
    "        stls = 3\n",
    "        new = heikin_ashi.signal_generation(new,stls)\n",
    "        heikin_ashi.plot(new,ticker)"
   ]
  }
 ],
 "metadata": {
  "extensions": {
   "jupyter_dashboards": {
    "activeView": "grid_default",
    "version": 1,
    "views": {
     "grid_default": {
      "cellMargin": 10,
      "defaultCellHeight": 20,
      "maxColumns": 12,
      "name": "grid",
      "type": "grid"
     },
     "report_default": {
      "name": "report",
      "type": "report"
     }
    }
   }
  },
  "kernelspec": {
   "display_name": "Python 3",
   "language": "python",
   "name": "python3"
  },
  "language_info": {
   "codemirror_mode": {
    "name": "ipython",
    "version": 3
   },
   "file_extension": ".py",
   "mimetype": "text/x-python",
   "name": "python",
   "nbconvert_exporter": "python",
   "pygments_lexer": "ipython3",
   "version": "3.6.0"
  },
  "widgets": {
   "state": {
    "482525fce41f43eebcb50b3cd0f458d2": {
     "views": [
      {
       "cell_index": 3
      }
     ]
    },
    "48f3efd8e1794f70b14ae2143c913563": {
     "views": [
      {
       "cell_index": 1
      }
     ]
    },
    "693f9190d425445092d00370c3792a39": {
     "views": [
      {
       "cell_index": 1
      }
     ]
    },
    "96d761f1351a49bc9cefec63dcf83d6c": {
     "views": [
      {
       "cell_index": 1
      }
     ]
    },
    "9f0da7aae9df409990a134100ef5165b": {
     "views": [
      {
       "cell_index": 3
      }
     ]
    },
    "bf58b9f2404a4df7ac90644e5773d136": {
     "views": [
      {
       "cell_index": 1
      }
     ]
    },
    "c38ba6f8bd91451282bf8edd175d3a42": {
     "views": [
      {
       "cell_index": 1
      }
     ]
    },
    "c79c0524b8b34ade94a93879321d223e": {
     "views": [
      {
       "cell_index": 1
      }
     ]
    },
    "cbf06bdf639546848643016f64279075": {
     "views": [
      {
       "cell_index": 1
      }
     ]
    }
   },
   "version": "1.2.0"
  }
 },
 "nbformat": 4,
 "nbformat_minor": 2
}
